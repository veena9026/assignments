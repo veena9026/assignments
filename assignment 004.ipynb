{
 "cells": [
  {
   "cell_type": "markdown",
   "id": "2ec4e643-e6e4-4647-9f52-2b10c212aa4d",
   "metadata": {},
   "source": [
    "### Q1. Find the largest number from the given list, use for loop.\n",
    "\n",
    "```\n",
    "numbers = [12, 75, 150, 180, 145, 525, 50]"
   ]
  },
  {
   "cell_type": "code",
   "execution_count": 1,
   "id": "ab85e75a-4d58-457b-b76c-bcc62ee0129f",
   "metadata": {},
   "outputs": [
    {
     "name": "stdout",
     "output_type": "stream",
     "text": [
      "largest number:  525\n"
     ]
    }
   ],
   "source": [
    "numbers = [12,75,150,180,525,50]\n",
    "maxi = numbers[0]\n",
    "\n",
    "for i in numbers:\n",
    "    if i > maxi:\n",
    "        maxi = i\n",
    "        \n",
    "print(\"largest number: \", maxi)"
   ]
  },
  {
   "cell_type": "markdown",
   "id": "07d2d00f-5d3f-449b-bc7f-d8c9a13b1f5a",
   "metadata": {},
   "source": [
    "### Q2. Print all the even number between (1, 12)."
   ]
  },
  {
   "cell_type": "code",
   "execution_count": 2,
   "id": "af9fbe55-19cf-4b75-abbe-c9b0b9e3fbc2",
   "metadata": {},
   "outputs": [
    {
     "name": "stdin",
     "output_type": "stream",
     "text": [
      "Enter the start of range:  1\n",
      "Enter the end of range:  12\n"
     ]
    },
    {
     "name": "stdout",
     "output_type": "stream",
     "text": [
      "2 4 6 8 10 12 "
     ]
    }
   ],
   "source": [
    "\n",
    "\n",
    "start = int(input(\"Enter the start of range: \"))\n",
    "end = int(input(\"Enter the end of range: \"))\n",
    "\n",
    "for num in range(start, end + 1):\n",
    "    if num % 2 == 0:\n",
    "        print(num, end=\" \")\n"
   ]
  },
  {
   "cell_type": "markdown",
   "id": "442d2bfb-175e-4532-850d-f64e4f04fe48",
   "metadata": {},
   "source": [
    "### Q3. Calculate the sum of all numbers from 1 to a given number\n",
    "\n",
    "Expected Output:\n",
    "\n",
    "Enter number 10\n",
    "\n",
    "Sum is:  55"
   ]
  },
  {
   "cell_type": "code",
   "execution_count": 3,
   "id": "34c2ddf6-9c6f-4924-8741-23e1a7e5633c",
   "metadata": {},
   "outputs": [
    {
     "name": "stdin",
     "output_type": "stream",
     "text": [
      "Enter number 10\n"
     ]
    },
    {
     "name": "stdout",
     "output_type": "stream",
     "text": [
      "sum is:  55\n"
     ]
    }
   ],
   "source": [
    "n = int(input(\"Enter number\"))\n",
    "i = 0\n",
    "\n",
    "for num in range(1, n + 1,1):\n",
    "    i = i + num\n",
    "print( \"sum is: \", i)\n",
    "\n"
   ]
  },
  {
   "cell_type": "code",
   "execution_count": null,
   "id": "ffef7f79-fe5a-4418-b61f-db8814cf8e44",
   "metadata": {},
   "outputs": [],
   "source": []
  },
  {
   "cell_type": "markdown",
   "id": "43480c6d-ec76-4c6d-aa98-57421f63a77c",
   "metadata": {},
   "source": [
    "### Q4. Write a program to display only those numbers from a list that satisfy the following conditions\n",
    "\n",
    "The number must be divisible by five\n",
    "\n",
    "If the number is greater than 150, then skip it and move to the next number\n",
    "\n",
    "If the number is greater than 500, then stop the loop"
   ]
  },
  {
   "cell_type": "markdown",
   "id": "5ce0fc30-56e1-4e88-93db-436ac2cbbfd9",
   "metadata": {},
   "source": [
    "#### Given:\n",
    "\n",
    "numbers = [12, 75, 150, 180, 145, 525, 50]"
   ]
  },
  {
   "cell_type": "code",
   "execution_count": 4,
   "id": "59d16881-4f34-4ea7-ba15-b4209d97ad88",
   "metadata": {},
   "outputs": [
    {
     "name": "stdout",
     "output_type": "stream",
     "text": [
      "12,not statify above conditions\n",
      "75 ,divisble by 5\n",
      "False,then skip it and move to the next number\n",
      "False,then stop loop\n",
      "---\n",
      "150,not statify above conditions\n",
      "180 ,divisble by 5\n",
      "True,then skip it and move to the next number\n",
      "False,then stop loop\n",
      "---\n",
      "145 ,divisble by 5\n",
      "False,then skip it and move to the next number\n",
      "False,then stop loop\n",
      "---\n",
      "525 ,divisble by 5\n",
      "True,then skip it and move to the next number\n",
      "True,then stop loop\n",
      "---\n",
      "50 ,divisble by 5\n",
      "False,then skip it and move to the next number\n",
      "False,then stop loop\n",
      "---\n"
     ]
    }
   ],
   "source": [
    "numbers = [12, 75, 150, 180, 145, 525, 50]\n",
    "maxi=numbers[0]\n",
    " \n",
    "for i in numbers:\n",
    "    if i % maxi:\n",
    "        maxi =i\n",
    "        print(f\"{i} ,divisble by 5\")\n",
    "        \n",
    "        i>150\n",
    "        print(f\"{i>150},then skip it and move to the next number\")\n",
    "        \n",
    "        i>500\n",
    "        print(f\"{i>500},then stop loop\")\n",
    "        print(\"---\")\n",
    "    else:\n",
    "        print(f\"{i},not statify above conditions\")"
   ]
  },
  {
   "cell_type": "markdown",
   "id": "ce397fe7-737f-4cdc-bac5-430801ea5199",
   "metadata": {},
   "source": [
    "### Q5. Print the given list in reverse order.\n",
    "\n",
    "```\n",
    "list1 = [10, 20, 30, 40, 50]\n",
    "```"
   ]
  },
  {
   "cell_type": "code",
   "execution_count": 5,
   "id": "5f7ac652-6853-4dee-98b0-b1db705608d7",
   "metadata": {},
   "outputs": [
    {
     "data": {
      "text/plain": [
       "[50, 40, 30, 20, 10]"
      ]
     },
     "execution_count": 5,
     "metadata": {},
     "output_type": "execute_result"
    }
   ],
   "source": [
    "list1 =[10,20,30,40,50]\n",
    "list1[::-1]\n",
    "\n"
   ]
  },
  {
   "cell_type": "code",
   "execution_count": 6,
   "id": "bec6f8fd-1543-445b-bb0f-56207341b7cb",
   "metadata": {},
   "outputs": [
    {
     "name": "stdout",
     "output_type": "stream",
     "text": [
      "reversed order: [50, 40, 30, 20, 10]\n"
     ]
    }
   ],
   "source": [
    "list1 =[10,20,30,40,50]\n",
    "\n",
    "list1.reverse()\n",
    "print(\"reversed order:\" ,list1)"
   ]
  },
  {
   "cell_type": "code",
   "execution_count": 12,
   "id": "1ed08d15-98ed-4d4d-90bd-691a34fc224c",
   "metadata": {},
   "outputs": [
    {
     "name": "stdout",
     "output_type": "stream",
     "text": [
      "[50, 40, 30, 20, 10],a reverse order\n",
      "[50, 40, 30, 20, 10],a reverse order\n",
      "[50, 40, 30, 20, 10],a reverse order\n",
      "[50, 40, 30, 20, 10],a reverse order\n",
      "[50, 40, 30, 20, 10],a reverse order\n"
     ]
    }
   ],
   "source": [
    "list1 =[10,20,30,40,50]\n",
    "\n",
    "\n",
    "for i in list1:\n",
    "    if list1[::-1]:\n",
    "         print(f\"{list1[::-1]},a reverse order\")\n",
    "\n"
   ]
  },
  {
   "cell_type": "code",
   "execution_count": 10,
   "id": "7a94e48b-9339-40f1-89e0-137592efb98b",
   "metadata": {},
   "outputs": [
    {
     "name": "stdout",
     "output_type": "stream",
     "text": [
      "[50, 40, 30, 20, 10],a reverse order\n"
     ]
    }
   ],
   "source": [
    "list1 =[10,20,30,40,50]\n",
    "\n",
    "\n",
    "if list1[::-1]:\n",
    "            print(f\"{ list1[::-1]},a reverse order\")\n",
    "elif list1[::-1]:\n",
    "            print(f\"{list1[::-1]}, is not reverse order\")\n",
    "else:\n",
    "    print(f\"{list1[::-1]},not exactly reverse order\")"
   ]
  },
  {
   "cell_type": "code",
   "execution_count": 9,
   "id": "46fa71fa-5aef-4775-a6cb-c0892a9bdd21",
   "metadata": {},
   "outputs": [
    {
     "name": "stdout",
     "output_type": "stream",
     "text": [
      "[50, 40, 30, 20, 10],a reverse order\n"
     ]
    }
   ],
   "source": [
    "list1 =[10,20,30,40,50]\n",
    "\n",
    "if list1[::-1]:\n",
    "    print(f\"{list1[::-1]},a reverse order\")\n",
    "else:\n",
    "    print(f\"{list1[::-1]}),not a reverse order\")"
   ]
  },
  {
   "cell_type": "code",
   "execution_count": null,
   "id": "c4ea0fd4-6a15-4e68-9a52-8718fdec030b",
   "metadata": {},
   "outputs": [],
   "source": []
  }
 ],
 "metadata": {
  "kernelspec": {
   "display_name": "Python 3 (ipykernel)",
   "language": "python",
   "name": "python3"
  },
  "language_info": {
   "codemirror_mode": {
    "name": "ipython",
    "version": 3
   },
   "file_extension": ".py",
   "mimetype": "text/x-python",
   "name": "python",
   "nbconvert_exporter": "python",
   "pygments_lexer": "ipython3",
   "version": "3.9.12"
  }
 },
 "nbformat": 4,
 "nbformat_minor": 5
}
