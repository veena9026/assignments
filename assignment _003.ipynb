{
 "cells": [
  {
   "cell_type": "markdown",
   "id": "3e2f877d-4953-434a-b8e4-516555b3e02d",
   "metadata": {},
   "source": [
    "\n",
    "### 1. Count the number of times `iNeuron` appears in the string.\n",
    "```python\n",
    "text = \"Welcome to iNeuron, You are a part of FSDS Bootcamp 2 in iNeuron. I hope you are enjoying the course by iNeuron\"\n",
    "```"
   ]
  },
  {
   "cell_type": "code",
   "execution_count": 1,
   "id": "a15c157a-567f-454e-bfe1-6b96ab5c8f5f",
   "metadata": {},
   "outputs": [
    {
     "data": {
      "text/plain": [
       "3"
      ]
     },
     "execution_count": 1,
     "metadata": {},
     "output_type": "execute_result"
    }
   ],
   "source": [
    "text = \"Welcome to iNeuron, You are a part of FSDS Bootcamp 2 in iNeuron. I hope you are enjoying the course by iNeuron\"\n",
    "\n",
    "text.count(\"iNeuron\")"
   ]
  },
  {
   "cell_type": "markdown",
   "id": "764b112b-a5c6-41f7-944a-f09cb86a9bbd",
   "metadata": {},
   "source": [
    "### 2. Check if position `5` to `11` ends with the phrase `iNeuron.` in the string \n",
    "\n",
    "txt = \"Hello, welcome to FSDS 2.0 at iNeuron.\""
   ]
  },
  {
   "cell_type": "code",
   "execution_count": 2,
   "id": "cccdba71-7381-4027-9f59-99715f6abe96",
   "metadata": {},
   "outputs": [
    {
     "data": {
      "text/plain": [
       "30"
      ]
     },
     "execution_count": 2,
     "metadata": {},
     "output_type": "execute_result"
    }
   ],
   "source": [
    "text = \"Hello, welcome to FSDS 2.0 at iNeuron.\"\n",
    "\n",
    "text.find(\"iNeuron\")"
   ]
  },
  {
   "cell_type": "code",
   "execution_count": 3,
   "id": "70b0fa07-e536-4b00-b13c-4e86718a746b",
   "metadata": {},
   "outputs": [
    {
     "data": {
      "text/plain": [
       "30"
      ]
     },
     "execution_count": 3,
     "metadata": {},
     "output_type": "execute_result"
    }
   ],
   "source": [
    "text.index(\"iNeuron\")"
   ]
  },
  {
   "cell_type": "markdown",
   "id": "d0404795-f994-40f6-8e38-a051354b3309",
   "metadata": {},
   "source": [
    "\n",
    "### 3. Write a program that takes your full name as input and displays the abbreviations of the first and middle names except the last name which is displayed as it is. For example, if your name is Sunny Bhaveen Chandra, then the output should be S.B.Chandra."
   ]
  },
  {
   "cell_type": "code",
   "execution_count": 5,
   "id": "91c6b9bc-eda1-41da-9b1b-76d51cd805c6",
   "metadata": {},
   "outputs": [
    {
     "name": "stdin",
     "output_type": "stream",
     "text": [
      "Enter a your full name: CHINTA VEENA KUMARI\n"
     ]
    },
    {
     "name": "stdout",
     "output_type": "stream",
     "text": [
      "C V KUMARI\n"
     ]
    }
   ],
   "source": [
    "\n",
    "\n",
    "\n",
    "str=input(\"Enter a your full name:\")\n",
    "\n",
    "\n",
    "list1=str.split(\" \")\n",
    "\n",
    "print(list1[0][0],list1[1][0],list1[2])\n",
    "\n"
   ]
  },
  {
   "cell_type": "code",
   "execution_count": null,
   "id": "9172755c-f461-4523-bfc7-60b2d3536cc9",
   "metadata": {},
   "outputs": [],
   "source": []
  },
  {
   "cell_type": "markdown",
   "id": "96b026f0-8349-4c84-9823-39bf4fedf0e4",
   "metadata": {},
   "source": [
    "### 4. Join all items in a list into a string, using a hash(#) character as separator:\n",
    "\n",
    "LIST = [\"My\", \"name\", \"is\", \"Rishav\", \"Dash\"]"
   ]
  },
  {
   "cell_type": "code",
   "execution_count": 6,
   "id": "075f2856-7206-40b6-a691-cba83b5f70e5",
   "metadata": {},
   "outputs": [
    {
     "name": "stdout",
     "output_type": "stream",
     "text": [
      "My ## name ## is ## Rishav ## Dash ## "
     ]
    }
   ],
   "source": [
    "LIST = [\"My\", \"name\", \"is\", \"Rishav\", \"Dash\"]\n",
    "\n",
    "for i in LIST:\n",
    "    print(i,end =\" ## \")\n",
    "    "
   ]
  },
  {
   "cell_type": "code",
   "execution_count": null,
   "id": "9b2177ce-30e1-4c16-994e-b4779f76f127",
   "metadata": {},
   "outputs": [],
   "source": []
  },
  {
   "cell_type": "markdown",
   "id": "c4d96a47-af04-42d6-bbc9-4c32effc08e5",
   "metadata": {},
   "source": [
    "### 5.Write example for the following string manipulation function,\n",
    "\n",
    "- isdecimal()\n",
    "- islower()\n",
    "- isupper()\n",
    "- isalpha()\n",
    "- isnumeric()"
   ]
  },
  {
   "cell_type": "code",
   "execution_count": 7,
   "id": "db49c0ee-df84-49cc-9cb5-230dda9c7861",
   "metadata": {},
   "outputs": [
    {
     "data": {
      "text/plain": [
       "True"
      ]
     },
     "execution_count": 7,
     "metadata": {},
     "output_type": "execute_result"
    }
   ],
   "source": [
    "Q= \"43455\"\n",
    "\n",
    "Q.isdecimal()"
   ]
  },
  {
   "cell_type": "code",
   "execution_count": 8,
   "id": "b6b5dbee-c427-4b18-89e8-1619cc496fe6",
   "metadata": {},
   "outputs": [
    {
     "data": {
      "text/plain": [
       "True"
      ]
     },
     "execution_count": 8,
     "metadata": {},
     "output_type": "execute_result"
    }
   ],
   "source": [
    "P=\"parvathi\"\n",
    "\n",
    "P.islower()"
   ]
  },
  {
   "cell_type": "code",
   "execution_count": 9,
   "id": "f08f682e-4f37-4c65-a51a-aa41478e3bd0",
   "metadata": {},
   "outputs": [
    {
     "data": {
      "text/plain": [
       "True"
      ]
     },
     "execution_count": 9,
     "metadata": {},
     "output_type": "execute_result"
    }
   ],
   "source": [
    "O =\"NARASIMHULU\"\n",
    "\n",
    "O.isupper()"
   ]
  },
  {
   "cell_type": "code",
   "execution_count": 10,
   "id": "4d9cb887-f5c1-4238-91f2-2338e9919a45",
   "metadata": {},
   "outputs": [
    {
     "data": {
      "text/plain": [
       "True"
      ]
     },
     "execution_count": 10,
     "metadata": {},
     "output_type": "execute_result"
    }
   ],
   "source": [
    "L='ashok'\n",
    "\n",
    "L.isalpha()"
   ]
  },
  {
   "cell_type": "code",
   "execution_count": 11,
   "id": "20c4964b-ab4c-4668-ab07-7f7eed694686",
   "metadata": {},
   "outputs": [
    {
     "data": {
      "text/plain": [
       "True"
      ]
     },
     "execution_count": 11,
     "metadata": {},
     "output_type": "execute_result"
    }
   ],
   "source": [
    "K =\"654567\"\n",
    "\n",
    "K.isnumeric()"
   ]
  },
  {
   "cell_type": "markdown",
   "id": "14857043-d3b8-4dc3-a541-b96853e89e02",
   "metadata": {},
   "source": [
    "### 6. Indian PAN card format follows the following formats -\n",
    "\n",
    "AYEPC7894X\n",
    "\n",
    "ABCDE9999Y Take user input for PAN_CARD and validate as per the above example."
   ]
  },
  {
   "cell_type": "code",
   "execution_count": 12,
   "id": "b8971ab4-76d5-4b5f-b7e2-d1120a7c2be8",
   "metadata": {},
   "outputs": [
    {
     "data": {
      "text/plain": [
       "True"
      ]
     },
     "execution_count": 12,
     "metadata": {},
     "output_type": "execute_result"
    }
   ],
   "source": [
    "pan_number =\"AYEPC7894X\"\n",
    "pan_number.isalnum()"
   ]
  },
  {
   "cell_type": "code",
   "execution_count": 14,
   "id": "1cc42c9d-f70a-41ca-af75-d03cfad5f3ea",
   "metadata": {},
   "outputs": [
    {
     "name": "stdin",
     "output_type": "stream",
     "text": [
      "ENTER A PAN NUMBER AYPEC7894X\n"
     ]
    },
    {
     "name": "stdout",
     "output_type": "stream",
     "text": [
      "valid pan number\n"
     ]
    }
   ],
   "source": [
    "pan_number =input(\"ENTER A PAN NUMBER\")\n",
    "\n",
    "A=pan_number[0:5]\n",
    "B=pan_number [9:]\n",
    "C=pan_number[5:9]\n",
    "\n",
    "if len( pan_number)==10:\n",
    "    if pan_number.isupper()==True and A.isalpha()==True and B.isalpha()==True and C.isdigit()==True:\n",
    "            print(\"valid pan number\")\n",
    "    else:     \n",
    "        print(\"invalid 1\")\n",
    "else:\n",
    "    print(\"invalid 2\")"
   ]
  },
  {
   "cell_type": "code",
   "execution_count": 15,
   "id": "6d472725-65fc-4ee6-bbc7-4436692c90cb",
   "metadata": {},
   "outputs": [
    {
     "name": "stdin",
     "output_type": "stream",
     "text": [
      "enter your pan number: ABCD9999Y\n"
     ]
    },
    {
     "name": "stdout",
     "output_type": "stream",
     "text": [
      "invalid2\n"
     ]
    }
   ],
   "source": [
    "\n",
    "pan=input(\"enter your pan number:\")\n",
    "y=pan[0:5]\n",
    "x=pan[9:10]\n",
    "t=pan[5:9]\n",
    "\n",
    "if len(pan)==10:  \n",
    "    if pan.isupper()==True and y.isalpha()==True and x.isalpha()==True and t.isdigit()==True:      \n",
    "        print(\"valid pan number\")   \n",
    "    else  :          \n",
    "        print(\"invalid1\")\n",
    "else :   \n",
    "        \n",
    "        print(\"invalid2\")"
   ]
  },
  {
   "cell_type": "code",
   "execution_count": null,
   "id": "b22417cf-ce07-438e-8fed-d25964735ba4",
   "metadata": {},
   "outputs": [],
   "source": []
  }
 ],
 "metadata": {
  "kernelspec": {
   "display_name": "Python 3 (ipykernel)",
   "language": "python",
   "name": "python3"
  },
  "language_info": {
   "codemirror_mode": {
    "name": "ipython",
    "version": 3
   },
   "file_extension": ".py",
   "mimetype": "text/x-python",
   "name": "python",
   "nbconvert_exporter": "python",
   "pygments_lexer": "ipython3",
   "version": "3.9.12"
  }
 },
 "nbformat": 4,
 "nbformat_minor": 5
}
