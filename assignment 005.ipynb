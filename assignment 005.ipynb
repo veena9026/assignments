{
 "cells": [
  {
   "cell_type": "markdown",
   "id": "e115e41a-affb-41d5-aa6e-cedcd1393016",
   "metadata": {},
   "source": [
    "#### 1. On amazon website we have the following available items - \n",
    "\n",
    "```python\n",
    "amazon_website = [(\"watch\", 5000), (\"phone\", 10000), (\"laptop\", 50000), (\"shirt\", 1000)]\n",
    "```\n",
    "Take the user input N no. of times and find out the total cost to be paid?\n",
    "\n",
    "OR\n",
    "\n",
    "You can ask the user quntity or the count of item?\n",
    "\n",
    "if the item is not present in the amazon website then print that item as out of stock and do add it total\n",
    "\n",
    "\n",
    "HINT: while, for loop.. indexing"
   ]
  },
  {
   "cell_type": "code",
   "execution_count": 2,
   "id": "4151014a-b5cd-4a6c-bcc7-a0d1899152b6",
   "metadata": {},
   "outputs": [
    {
     "name": "stdin",
     "output_type": "stream",
     "text": [
      "no.of items  3\n",
      "enter the item  purchase phone\n",
      "enter the item  purchase watch\n",
      "enter the item  purchase shirt\n"
     ]
    },
    {
     "name": "stdout",
     "output_type": "stream",
     "text": [
      "5000 watch\n",
      "10000 phone\n",
      "50000 laptop\n",
      "1000 shirt\n",
      "quality of items in cart:3\n",
      "amount to be paid items :['phone', 'watch', 'shirt']\n"
     ]
    }
   ],
   "source": [
    "amazon_website = [(\"watch\", 5000), (\"phone\", 10000), (\"laptop\", 50000), (\"shirt\", 1000)]\n",
    "\n",
    "\n",
    "\n",
    "\n",
    "list_of_items= list()\n",
    "\n",
    "N=int(input(\"no.of items \"))\n",
    "\n",
    "for i in range(N):\n",
    "    user =input(\"enter the item  purchase\")\n",
    "    \n",
    "    list_of_items =list_of_items+[user]\n",
    "    \n",
    "for items in amazon_website:\n",
    " \n",
    "        print(items[1],items[0])\n",
    "    \n",
    "print(f\"quality of items in cart:{N}\")\n",
    "print(f\"amount to be paid items :{list_of_items}\")"
   ]
  },
  {
   "cell_type": "code",
   "execution_count": null,
   "id": "4ee488ff-b9d3-41ae-a72f-22fe04fc32ed",
   "metadata": {},
   "outputs": [],
   "source": []
  },
  {
   "cell_type": "markdown",
   "id": "b5863d1a-241e-4bfb-8e6d-062738c1ee47",
   "metadata": {},
   "source": [
    "#### 2. What will be the output of the following code snippet?\n",
    "\n",
    "```\n",
    "arr = [1, 2, 3, 4, 5, 6]\n",
    "for i in range(1, 6):\n",
    "    arr[i - 1] = arr[i]\n",
    "for i in range(0, 6): \n",
    "    print(arr[i], end = \" \")\n",
    "```"
   ]
  },
  {
   "cell_type": "code",
   "execution_count": null,
   "id": "1bf742f7-9215-4df8-9025-b9373a8560ae",
   "metadata": {},
   "outputs": [],
   "source": []
  },
  {
   "cell_type": "code",
   "execution_count": 3,
   "id": "dbaf2590-191d-47fa-8027-6c863fafb9bd",
   "metadata": {},
   "outputs": [
    {
     "name": "stdout",
     "output_type": "stream",
     "text": [
      "2 3 4 5 6 6 "
     ]
    }
   ],
   "source": [
    "\n",
    "arr = [1, 2, 3, 4, 5, 6]\n",
    "for i in range(1, 6):\n",
    "    arr[i - 1] = arr[i]\n",
    "for i in range(0, 6): \n",
    "    print(arr[i], end = \" \")\n"
   ]
  },
  {
   "cell_type": "markdown",
   "id": "e6116d14-53f8-4098-8221-e1e756285b65",
   "metadata": {
    "tags": []
   },
   "source": [
    "#### 3. Write a Python program to find the repeated items of a tuple."
   ]
  },
  {
   "cell_type": "code",
   "execution_count": 4,
   "id": "39da0c79-4e71-4f27-8dae-87aa1ad565d7",
   "metadata": {},
   "outputs": [
    {
     "name": "stdout",
     "output_type": "stream",
     "text": [
      "12 1\n",
      "56 1\n",
      "37 2\n",
      "1 3\n",
      "1 3\n",
      "34 1\n",
      "37 2\n",
      "23 1\n",
      "1 3\n",
      "veena 1\n",
      "4 1\n"
     ]
    }
   ],
   "source": [
    "s=(12,56,37,1,1,34,37,23,1,\"veena\",4)\n",
    "\n",
    "for i in s:\n",
    "    print(i,s.count(i))\n"
   ]
  },
  {
   "cell_type": "markdown",
   "id": "9f8fd0da-f845-4cc1-9931-6ea7b9c3b080",
   "metadata": {
    "tags": []
   },
   "source": [
    "### 4. Replace last value of tuples in a list with 500. Try using list comprehension\n",
    "\n",
    "Example -: \n",
    "```\n",
    "Input -:p\n",
    "\n",
    "[(10, 20, 40), (40, 50, 60), (70, 80, 90)]\n",
    "\n",
    "Output -:\n",
    "[(10, 20, 500), (40, 50, 500), (70, 80, 500)]\n",
    "\n",
    "\n",
    "```\n"
   ]
  },
  {
   "cell_type": "code",
   "execution_count": 5,
   "id": "d188f8fc-208d-4c43-bfed-0dcdd7e7e780",
   "metadata": {},
   "outputs": [
    {
     "name": "stdout",
     "output_type": "stream",
     "text": [
      "[(10, 20, 500), (40, 50, 500), (70, 80, 500)]\n"
     ]
    }
   ],
   "source": [
    "\n",
    "l = [(10, 20, 40), (40, 50, 60), (70, 80, 90)]\n",
    "print([t[:-1] + (500,) for t in l])\n",
    "\n"
   ]
  },
  {
   "cell_type": "code",
   "execution_count": null,
   "id": "21068687-0e35-40a0-b054-1b5c5186bc7c",
   "metadata": {},
   "outputs": [],
   "source": []
  }
 ],
 "metadata": {
  "kernelspec": {
   "display_name": "Python 3 (ipykernel)",
   "language": "python",
   "name": "python3"
  },
  "language_info": {
   "codemirror_mode": {
    "name": "ipython",
    "version": 3
   },
   "file_extension": ".py",
   "mimetype": "text/x-python",
   "name": "python",
   "nbconvert_exporter": "python",
   "pygments_lexer": "ipython3",
   "version": "3.9.12"
  }
 },
 "nbformat": 4,
 "nbformat_minor": 5
}
